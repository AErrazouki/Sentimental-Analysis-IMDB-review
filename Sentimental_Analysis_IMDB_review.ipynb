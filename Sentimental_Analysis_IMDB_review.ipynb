{
 "cells": [
  {
   "cell_type": "markdown",
   "id": "1a45f85f-43c8-4c83-9c5c-494ee7351fe4",
   "metadata": {},
   "source": [
    "# Chargement et exploration des données"
   ]
  },
  {
   "cell_type": "code",
   "execution_count": 1,
   "id": "d0dd0861-43d6-4718-b87f-93e0b71d988d",
   "metadata": {},
   "outputs": [
    {
     "data": {
      "text/html": [
       "<div>\n",
       "<style scoped>\n",
       "    .dataframe tbody tr th:only-of-type {\n",
       "        vertical-align: middle;\n",
       "    }\n",
       "\n",
       "    .dataframe tbody tr th {\n",
       "        vertical-align: top;\n",
       "    }\n",
       "\n",
       "    .dataframe thead th {\n",
       "        text-align: right;\n",
       "    }\n",
       "</style>\n",
       "<table border=\"1\" class=\"dataframe\">\n",
       "  <thead>\n",
       "    <tr style=\"text-align: right;\">\n",
       "      <th></th>\n",
       "      <th>review</th>\n",
       "      <th>sentiment</th>\n",
       "    </tr>\n",
       "  </thead>\n",
       "  <tbody>\n",
       "    <tr>\n",
       "      <th>0</th>\n",
       "      <td>One of the other reviewers has mentioned that ...</td>\n",
       "      <td>positive</td>\n",
       "    </tr>\n",
       "    <tr>\n",
       "      <th>1</th>\n",
       "      <td>A wonderful little production. &lt;br /&gt;&lt;br /&gt;The...</td>\n",
       "      <td>positive</td>\n",
       "    </tr>\n",
       "    <tr>\n",
       "      <th>2</th>\n",
       "      <td>I thought this was a wonderful way to spend ti...</td>\n",
       "      <td>positive</td>\n",
       "    </tr>\n",
       "    <tr>\n",
       "      <th>3</th>\n",
       "      <td>Basically there's a family where a little boy ...</td>\n",
       "      <td>negative</td>\n",
       "    </tr>\n",
       "    <tr>\n",
       "      <th>4</th>\n",
       "      <td>Petter Mattei's \"Love in the Time of Money\" is...</td>\n",
       "      <td>positive</td>\n",
       "    </tr>\n",
       "  </tbody>\n",
       "</table>\n",
       "</div>"
      ],
      "text/plain": [
       "                                              review sentiment\n",
       "0  One of the other reviewers has mentioned that ...  positive\n",
       "1  A wonderful little production. <br /><br />The...  positive\n",
       "2  I thought this was a wonderful way to spend ti...  positive\n",
       "3  Basically there's a family where a little boy ...  negative\n",
       "4  Petter Mattei's \"Love in the Time of Money\" is...  positive"
      ]
     },
     "execution_count": 1,
     "metadata": {},
     "output_type": "execute_result"
    }
   ],
   "source": [
    "import pandas as pd\n",
    "\n",
    "# Chargement des données\n",
    "data = pd.read_csv('IMDB Dataset.csv')\n",
    "\n",
    "# Aperçu des premières lignes\n",
    "data.head()"
   ]
  },
  {
   "cell_type": "markdown",
   "id": "d37cb45f-aff1-4c77-894b-8ab2245002c4",
   "metadata": {},
   "source": [
    "# Prétraitement des données"
   ]
  },
  {
   "cell_type": "markdown",
   "id": "77d12ba6-2592-40ab-bdb9-39927a5bc768",
   "metadata": {},
   "source": [
    "Le nettoyage en convertissant le texte en minuscules, en supprimant les balises HTML, les caractères spéciaux, les chiffres et les mots vides."
   ]
  },
  {
   "cell_type": "code",
   "execution_count": 2,
   "id": "4232cdb2-6307-4c19-8f05-1ec4c1021a36",
   "metadata": {},
   "outputs": [
    {
     "name": "stderr",
     "output_type": "stream",
     "text": [
      "[nltk_data] Downloading package stopwords to\n",
      "[nltk_data]     C:\\Users\\aya\\AppData\\Roaming\\nltk_data...\n",
      "[nltk_data]   Package stopwords is already up-to-date!\n"
     ]
    },
    {
     "name": "stdout",
     "output_type": "stream",
     "text": [
      "0    one reviewers mentioned watching oz episode yo...\n",
      "1    wonderful little production filming technique ...\n",
      "2    thought wonderful way spend time hot summer we...\n",
      "3    basically theres family little boy jake thinks...\n",
      "4    petter matteis love time money visually stunni...\n",
      "Name: cleaned_review, dtype: object\n"
     ]
    }
   ],
   "source": [
    "import re\n",
    "import nltk\n",
    "from nltk.corpus import stopwords\n",
    "\n",
    "nltk.download('stopwords')\n",
    "stop_words = set(stopwords.words('english'))\n",
    "\n",
    "# Fonction de nettoyage du texte\n",
    "def clean_text(text):\n",
    "    # Mise en minuscule\n",
    "    text = text.lower()\n",
    "    # Suppression des balises HTML\n",
    "    text = re.sub(r'<br />', '', text)\n",
    "    # Suppression des caractères spéciaux et des chiffres\n",
    "    text = re.sub(r'[^a-zA-Z\\s]', '', text)\n",
    "    # Suppression des mots vides\n",
    "    text = ' '.join([word for word in text.split() if word not in stop_words])\n",
    "    return text\n",
    "\n",
    "# Application du nettoyage sur les critiques\n",
    "data['cleaned_review'] = data['review'].apply(clean_text)\n",
    "\n",
    "# Aperçu des premières lignes nettoyées\n",
    "print(data['cleaned_review'].head())"
   ]
  },
  {
   "cell_type": "markdown",
   "id": "939cd49f-2b20-415f-860e-eb0f17952bca",
   "metadata": {},
   "source": [
    "# Tokenization et encodage des labels"
   ]
  },
  {
   "cell_type": "code",
   "execution_count": 3,
   "id": "180acd14-2c04-4b3d-ba87-b315a8a7c360",
   "metadata": {},
   "outputs": [],
   "source": [
    "from sklearn.model_selection import train_test_split\n",
    "from tensorflow.keras.preprocessing.text import Tokenizer\n",
    "from tensorflow.keras.preprocessing.sequence import pad_sequences\n",
    "\n",
    "# Séparation des données en train/test\n",
    "X_train, X_test, y_train, y_test = train_test_split(data['cleaned_review'], data['sentiment'], test_size=0.2, random_state=42)\n",
    "\n",
    "# Conversion des labels 'positive' et 'negative' en 1 et 0\n",
    "y_train = y_train.map({'positive': 1, 'negative': 0})\n",
    "y_test = y_test.map({'positive': 1, 'negative': 0})\n",
    "\n",
    "# Tokenization des textes\n",
    "tokenizer = Tokenizer(num_words=10000)\n",
    "tokenizer.fit_on_texts(X_train)\n",
    "\n",
    "# Conversion des textes en séquences d'entiers\n",
    "X_train_seq = tokenizer.texts_to_sequences(X_train)\n",
    "X_test_seq = tokenizer.texts_to_sequences(X_test)\n",
    "\n",
    "# Padding pour avoir des séquences de même longueur\n",
    "# Modifier la longueur des séquences\n",
    "X_train_pad = pad_sequences(X_train_seq, maxlen=300)\n",
    "X_test_pad = pad_sequences(X_test_seq, maxlen=300)"
   ]
  },
  {
   "cell_type": "markdown",
   "id": "996663b3-4c4d-41d1-8c72-0164e28cd075",
   "metadata": {},
   "source": [
    "# Création du modèle de classification"
   ]
  },
  {
   "cell_type": "markdown",
   "id": "2dc19d14-1a4d-49dd-a9ae-4cfefee61dd0",
   "metadata": {},
   "source": [
    "Utilisation de  la couche **Embedding** pour transformer les mots en vecteurs, suivie d'une couche **LSTM** pour capturer les relations séquentielles. Une couche **Dropout** est ajoutée pour éviter le surapprentissage, et une couche **Dense** avec activation **sigmoid** produit la sortie binaire."
   ]
  },
  {
   "cell_type": "code",
   "execution_count": 4,
   "id": "123864be-cc85-42d7-b751-56cd5f3dfb94",
   "metadata": {},
   "outputs": [
    {
     "name": "stderr",
     "output_type": "stream",
     "text": [
      "C:\\Users\\aya\\anaconda3\\Lib\\site-packages\\keras\\src\\layers\\core\\embedding.py:90: UserWarning: Argument `input_length` is deprecated. Just remove it.\n",
      "  warnings.warn(\n"
     ]
    },
    {
     "data": {
      "text/html": [
       "<pre style=\"white-space:pre;overflow-x:auto;line-height:normal;font-family:Menlo,'DejaVu Sans Mono',consolas,'Courier New',monospace\"><span style=\"font-weight: bold\">Model: \"sequential\"</span>\n",
       "</pre>\n"
      ],
      "text/plain": [
       "\u001b[1mModel: \"sequential\"\u001b[0m\n"
      ]
     },
     "metadata": {},
     "output_type": "display_data"
    },
    {
     "data": {
      "text/html": [
       "<pre style=\"white-space:pre;overflow-x:auto;line-height:normal;font-family:Menlo,'DejaVu Sans Mono',consolas,'Courier New',monospace\">┏━━━━━━━━━━━━━━━━━━━━━━━━━━━━┳━━━━━━━━━━━━━━━━━━━━━┳━━━━━━━━━━━━━┓\n",
       "┃<span style=\"font-weight: bold\"> Layer (type)               </span>┃<span style=\"font-weight: bold\"> Output Shape        </span>┃<span style=\"font-weight: bold\">     Param # </span>┃\n",
       "┡━━━━━━━━━━━━━━━━━━━━━━━━━━━━╇━━━━━━━━━━━━━━━━━━━━━╇━━━━━━━━━━━━━┩\n",
       "│ embedding (<span style=\"color: #0087ff; text-decoration-color: #0087ff\">Embedding</span>)      │ ?                   │ <span style=\"color: #00af00; text-decoration-color: #00af00\">0</span> (unbuilt) │\n",
       "├────────────────────────────┼─────────────────────┼─────────────┤\n",
       "│ lstm (<span style=\"color: #0087ff; text-decoration-color: #0087ff\">LSTM</span>)                │ ?                   │ <span style=\"color: #00af00; text-decoration-color: #00af00\">0</span> (unbuilt) │\n",
       "├────────────────────────────┼─────────────────────┼─────────────┤\n",
       "│ dropout (<span style=\"color: #0087ff; text-decoration-color: #0087ff\">Dropout</span>)          │ ?                   │ <span style=\"color: #00af00; text-decoration-color: #00af00\">0</span> (unbuilt) │\n",
       "├────────────────────────────┼─────────────────────┼─────────────┤\n",
       "│ dense (<span style=\"color: #0087ff; text-decoration-color: #0087ff\">Dense</span>)              │ ?                   │ <span style=\"color: #00af00; text-decoration-color: #00af00\">0</span> (unbuilt) │\n",
       "└────────────────────────────┴─────────────────────┴─────────────┘\n",
       "</pre>\n"
      ],
      "text/plain": [
       "┏━━━━━━━━━━━━━━━━━━━━━━━━━━━━┳━━━━━━━━━━━━━━━━━━━━━┳━━━━━━━━━━━━━┓\n",
       "┃\u001b[1m \u001b[0m\u001b[1mLayer (type)              \u001b[0m\u001b[1m \u001b[0m┃\u001b[1m \u001b[0m\u001b[1mOutput Shape       \u001b[0m\u001b[1m \u001b[0m┃\u001b[1m \u001b[0m\u001b[1m    Param #\u001b[0m\u001b[1m \u001b[0m┃\n",
       "┡━━━━━━━━━━━━━━━━━━━━━━━━━━━━╇━━━━━━━━━━━━━━━━━━━━━╇━━━━━━━━━━━━━┩\n",
       "│ embedding (\u001b[38;5;33mEmbedding\u001b[0m)      │ ?                   │ \u001b[38;5;34m0\u001b[0m (unbuilt) │\n",
       "├────────────────────────────┼─────────────────────┼─────────────┤\n",
       "│ lstm (\u001b[38;5;33mLSTM\u001b[0m)                │ ?                   │ \u001b[38;5;34m0\u001b[0m (unbuilt) │\n",
       "├────────────────────────────┼─────────────────────┼─────────────┤\n",
       "│ dropout (\u001b[38;5;33mDropout\u001b[0m)          │ ?                   │ \u001b[38;5;34m0\u001b[0m (unbuilt) │\n",
       "├────────────────────────────┼─────────────────────┼─────────────┤\n",
       "│ dense (\u001b[38;5;33mDense\u001b[0m)              │ ?                   │ \u001b[38;5;34m0\u001b[0m (unbuilt) │\n",
       "└────────────────────────────┴─────────────────────┴─────────────┘\n"
      ]
     },
     "metadata": {},
     "output_type": "display_data"
    },
    {
     "data": {
      "text/html": [
       "<pre style=\"white-space:pre;overflow-x:auto;line-height:normal;font-family:Menlo,'DejaVu Sans Mono',consolas,'Courier New',monospace\"><span style=\"font-weight: bold\"> Total params: </span><span style=\"color: #00af00; text-decoration-color: #00af00\">0</span> (0.00 B)\n",
       "</pre>\n"
      ],
      "text/plain": [
       "\u001b[1m Total params: \u001b[0m\u001b[38;5;34m0\u001b[0m (0.00 B)\n"
      ]
     },
     "metadata": {},
     "output_type": "display_data"
    },
    {
     "data": {
      "text/html": [
       "<pre style=\"white-space:pre;overflow-x:auto;line-height:normal;font-family:Menlo,'DejaVu Sans Mono',consolas,'Courier New',monospace\"><span style=\"font-weight: bold\"> Trainable params: </span><span style=\"color: #00af00; text-decoration-color: #00af00\">0</span> (0.00 B)\n",
       "</pre>\n"
      ],
      "text/plain": [
       "\u001b[1m Trainable params: \u001b[0m\u001b[38;5;34m0\u001b[0m (0.00 B)\n"
      ]
     },
     "metadata": {},
     "output_type": "display_data"
    },
    {
     "data": {
      "text/html": [
       "<pre style=\"white-space:pre;overflow-x:auto;line-height:normal;font-family:Menlo,'DejaVu Sans Mono',consolas,'Courier New',monospace\"><span style=\"font-weight: bold\"> Non-trainable params: </span><span style=\"color: #00af00; text-decoration-color: #00af00\">0</span> (0.00 B)\n",
       "</pre>\n"
      ],
      "text/plain": [
       "\u001b[1m Non-trainable params: \u001b[0m\u001b[38;5;34m0\u001b[0m (0.00 B)\n"
      ]
     },
     "metadata": {},
     "output_type": "display_data"
    }
   ],
   "source": [
    "from tensorflow.keras.models import Sequential\n",
    "from tensorflow.keras.layers import Embedding, LSTM, Dense, Dropout\n",
    "\n",
    "# Création du modèle LSTM\n",
    "model = Sequential()\n",
    "model.add(Embedding(input_dim=10000, output_dim=128, input_length=200))\n",
    "model.add(LSTM(128, return_sequences=False))\n",
    "model.add(Dropout(0.5))\n",
    "model.add(Dense(1, activation='sigmoid'))\n",
    "\n",
    "# Compilation du modèle\n",
    "model.compile(loss='binary_crossentropy', optimizer='adam', metrics=['accuracy'])\n",
    "\n",
    "# Résumé du modèle\n",
    "model.summary()"
   ]
  },
  {
   "cell_type": "markdown",
   "id": "d2358d8b-89a8-4dcd-b1c8-be42c389abe8",
   "metadata": {},
   "source": [
    "# Entraînement du modèle"
   ]
  },
  {
   "cell_type": "code",
   "execution_count": 7,
   "id": "6b335b03-c7a9-4967-b8f4-74ed09b476da",
   "metadata": {},
   "outputs": [
    {
     "name": "stdout",
     "output_type": "stream",
     "text": [
      "Epoch 1/5\n",
      "\u001b[1m625/625\u001b[0m \u001b[32m━━━━━━━━━━━━━━━━━━━━\u001b[0m\u001b[37m\u001b[0m \u001b[1m424s\u001b[0m 678ms/step - accuracy: 0.9473 - loss: 0.1436 - val_accuracy: 0.8793 - val_loss: 0.3011\n",
      "Epoch 2/5\n",
      "\u001b[1m625/625\u001b[0m \u001b[32m━━━━━━━━━━━━━━━━━━━━\u001b[0m\u001b[37m\u001b[0m \u001b[1m434s\u001b[0m 694ms/step - accuracy: 0.9593 - loss: 0.1142 - val_accuracy: 0.8703 - val_loss: 0.3465\n",
      "Epoch 3/5\n",
      "\u001b[1m625/625\u001b[0m \u001b[32m━━━━━━━━━━━━━━━━━━━━\u001b[0m\u001b[37m\u001b[0m \u001b[1m432s\u001b[0m 691ms/step - accuracy: 0.9679 - loss: 0.0925 - val_accuracy: 0.8676 - val_loss: 0.3894\n",
      "Epoch 4/5\n",
      "\u001b[1m625/625\u001b[0m \u001b[32m━━━━━━━━━━━━━━━━━━━━\u001b[0m\u001b[37m\u001b[0m \u001b[1m424s\u001b[0m 663ms/step - accuracy: 0.9787 - loss: 0.0672 - val_accuracy: 0.8738 - val_loss: 0.4398\n",
      "Epoch 5/5\n",
      "\u001b[1m625/625\u001b[0m \u001b[32m━━━━━━━━━━━━━━━━━━━━\u001b[0m\u001b[37m\u001b[0m \u001b[1m415s\u001b[0m 665ms/step - accuracy: 0.9824 - loss: 0.0555 - val_accuracy: 0.8682 - val_loss: 0.4755\n"
     ]
    }
   ],
   "source": [
    "# Entraînement du modèle\n",
    "entr = model.fit(X_train_pad, y_train, epochs=5, batch_size=64, validation_data=(X_test_pad, y_test))"
   ]
  },
  {
   "cell_type": "markdown",
   "id": "1719a925-8bcf-402a-8d1c-9f083c7d3a79",
   "metadata": {},
   "source": [
    "# Évaluation et prédiction"
   ]
  },
  {
   "cell_type": "code",
   "execution_count": 8,
   "id": "2805be78-151b-4d6a-a257-6f890fd4c763",
   "metadata": {},
   "outputs": [
    {
     "name": "stdout",
     "output_type": "stream",
     "text": [
      "\u001b[1m313/313\u001b[0m \u001b[32m━━━━━━━━━━━━━━━━━━━━\u001b[0m\u001b[37m\u001b[0m \u001b[1m44s\u001b[0m 142ms/step - accuracy: 0.8713 - loss: 0.4451\n",
      "Précision sur les données de test : 86.82%\n",
      "\u001b[1m1/1\u001b[0m \u001b[32m━━━━━━━━━━━━━━━━━━━━\u001b[0m\u001b[37m\u001b[0m \u001b[1m1s\u001b[0m 1s/step\n",
      "[[0.62932754]\n",
      " [0.07341436]]\n"
     ]
    }
   ],
   "source": [
    "# Évaluation sur les données de test\n",
    "loss, accuracy = model.evaluate(X_test_pad, y_test)\n",
    "print(f\"Précision sur les données de test : {accuracy * 100:.2f}%\")\n",
    "\n",
    "# Prédiction sur de nouvelles critiques\n",
    "new_reviews = [\"This movie was fantastic!\", \"I didn't like this movie at all.\"]\n",
    "new_reviews_cleaned = [clean_text(review) for review in new_reviews]\n",
    "new_reviews_seq = tokenizer.texts_to_sequences(new_reviews_cleaned)\n",
    "new_reviews_pad = pad_sequences(new_reviews_seq, maxlen=200)\n",
    "\n",
    "predictions = model.predict(new_reviews_pad)\n",
    "print(predictions)"
   ]
  },
  {
   "cell_type": "code",
   "execution_count": 10,
   "id": "f4227a72-8572-45cc-aa4a-9c3aeee46667",
   "metadata": {},
   "outputs": [
    {
     "name": "stdout",
     "output_type": "stream",
     "text": [
      "Critique: This movie was fantastic!\n",
      "Sentiment prédit: Positif (62.93%)\n",
      "\n",
      "Critique: I didn't like this movie at all.\n",
      "Sentiment prédit: Négatif (7.34%)\n",
      "\n"
     ]
    }
   ],
   "source": [
    "# Affichage des résultats\n",
    "for i, review in enumerate(new_reviews):\n",
    "    sentiment = \"Positif\" if predictions[i] >= 0.5 else \"Négatif\"\n",
    "    print(f\"Critique: {review}\")\n",
    "    print(f\"Sentiment prédit: {sentiment} ({predictions[i][0] * 100:.2f}%)\\n\")\n"
   ]
  },
  {
   "cell_type": "code",
   "execution_count": null,
   "id": "cd7dc295-128d-44c9-88df-107dabc5b916",
   "metadata": {},
   "outputs": [],
   "source": []
  }
 ],
 "metadata": {
  "kernelspec": {
   "display_name": "Python 3 (ipykernel)",
   "language": "python",
   "name": "python3"
  },
  "language_info": {
   "codemirror_mode": {
    "name": "ipython",
    "version": 3
   },
   "file_extension": ".py",
   "mimetype": "text/x-python",
   "name": "python",
   "nbconvert_exporter": "python",
   "pygments_lexer": "ipython3",
   "version": "3.11.7"
  }
 },
 "nbformat": 4,
 "nbformat_minor": 5
}
